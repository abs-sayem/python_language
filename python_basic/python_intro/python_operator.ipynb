{
 "cells": [
  {
   "cell_type": "markdown",
   "metadata": {},
   "source": [
    "### **Where I Stuck**"
   ]
  },
  {
   "cell_type": "markdown",
   "metadata": {},
   "source": [
    "#### **Operators in Python**\n",
    "* `i + j` [Addition] - returns int value if both are int and returns float if either one is float.\n",
    "* `i - j` [Subtraction] - returns int value if both are int and returns float if either one is float.\n",
    "* `i * j` [Multiplication] - returns int value if both are int and returns float if either one is float.\n",
    "* `i / j` [Division] - (in python 3) always return float value. [5/2 = 2.5]\n",
    "* `i // j` [Division] - return only the quotients, ignore the remainder. [5//2 = 2]\n",
    "* `i ** j` [Power] - returns int value if both are int and returns float if either one is float.\n",
    "* `i % j` [Remainder] - always return int value."
   ]
  },
  {
   "cell_type": "code",
   "execution_count": 4,
   "metadata": {},
   "outputs": [
    {
     "name": "stdout",
     "output_type": "stream",
     "text": [
      "Addition        : 7\n",
      "Subtraction     : 3\n",
      "Multiplication  : 10\n",
      "Division        : 2.5, 2\n",
      "Power           : 25\n",
      "Remainder       : 1\n"
     ]
    }
   ],
   "source": [
    "print(f\"Addition        : {5+2}\")\n",
    "print(f\"Subtraction     : {5-2}\")\n",
    "print(f\"Multiplication  : {5*2}\")\n",
    "print(f\"Division        : {5/2}, {5//2}\")\n",
    "print(f\"Power           : {5**2}\")\n",
    "print(f\"Remainder       : {5%2}\")"
   ]
  },
  {
   "cell_type": "markdown",
   "metadata": {},
   "source": [
    "#### **Assignment Operators**"
   ]
  },
  {
   "cell_type": "code",
   "execution_count": 6,
   "metadata": {},
   "outputs": [
    {
     "name": "stdout",
     "output_type": "stream",
     "text": [
      "10, 11, 12, 12, 13, 14\n"
     ]
    }
   ],
   "source": [
    "first_number = 10\n",
    "second_number = 11\n",
    "third_number = forth_number = 12\n",
    "fifth_number, sixth_number = 13, 14\n",
    "print(f\"{first_number}, {second_number}, {third_number}, {forth_number}, {fifth_number}, {sixth_number}\")"
   ]
  },
  {
   "cell_type": "code",
   "execution_count": 10,
   "metadata": {},
   "outputs": [
    {
     "name": "stdout",
     "output_type": "stream",
     "text": [
      "FN = 11\n",
      "SN = 10\n"
     ]
    }
   ],
   "source": [
    "first_number, second_number = 10, 11\n",
    "first_number, second_number = second_number, first_number\n",
    "\n",
    "print(f\"FN = {first_number}\\nSN = {second_number}\")"
   ]
  },
  {
   "cell_type": "code",
   "execution_count": 11,
   "metadata": {},
   "outputs": [
    {
     "name": "stdout",
     "output_type": "stream",
     "text": [
      "FN = 11\n",
      "SN = 11\n"
     ]
    }
   ],
   "source": [
    "first_number, second_number = 10, 11\n",
    "first_number = second_number\n",
    "second_number = first_number\n",
    "\n",
    "print(f\"FN = {first_number}\\nSN = {second_number}\")"
   ]
  },
  {
   "cell_type": "markdown",
   "metadata": {},
   "source": [
    "#### **`Excercise`**\n",
    "Write a program that examines three variables - x, y, amd z - and prints the largest odd number among them. If none of them are odd, it should print a message to that effect."
   ]
  },
  {
   "cell_type": "code",
   "execution_count": 41,
   "metadata": {},
   "outputs": [
    {
     "name": "stdout",
     "output_type": "stream",
     "text": [
      "> 10 12 110\n",
      "> There is no odd number here.\n"
     ]
    }
   ],
   "source": [
    "# Take three random numbers\n",
    "first_number, second_number, third_number = 10, 12, 110\n",
    "print(f\"> {first_number} {second_number} {third_number}\")\n",
    "\n",
    "# Check the odd number\n",
    "if first_number%2 != 0: odd1 = first_number\n",
    "else: odd1 = 0\n",
    "if second_number%2 != 0: odd2 = second_number\n",
    "else: odd2 = 0\n",
    "if third_number%2 != 0: odd3 = third_number\n",
    "else: odd3 = 0\n",
    "\n",
    "# Find the largest odd number if any\n",
    "if odd1 == 0 and odd2 == 0 and odd3 == 0: print(f\"> There is no odd number here.\")\n",
    "else:\n",
    "    if odd1>odd2 and odd1>odd3: print(f\"> {odd1} is the largent odd number.\")\n",
    "    elif odd2>odd3: print(f\"> {odd2} is the largest odd number.\")\n",
    "    else: print(f\"> {odd3} is the largest odd number.\")"
   ]
  },
  {
   "cell_type": "code",
   "execution_count": null,
   "metadata": {},
   "outputs": [
    {
     "name": "stdout",
     "output_type": "stream",
     "text": [
      "> 121 123 334\n",
      "> 123 is the largest odd number.\n"
     ]
    }
   ],
   "source": [
    "# Global variable\n",
    "negative_infinity = float('-inf')\n",
    "# Checking whether the number is odd or not\n",
    "def check_odd(number):\n",
    "    if number % 2 != 0: return number\n",
    "    else: return negative_infinity\n",
    "\n",
    "# Finding largest number\n",
    "def largest_odd(number1, number2, number3):\n",
    "    if number1 > number2 and number1 > number3: return number1\n",
    "    elif number2 > number3: return number2\n",
    "    else: return number3\n",
    "\n",
    "# Take three random numbers\n",
    "# first_number, second_number, third_number = 10, 121, 110\n",
    "first_number = int(input(f\"Enter 1st Number: \"))\n",
    "second_number = int(input(f\"Enter 2nd Number: \"))\n",
    "third_number = int(input(f\"Enter 3rd Number: \"))\n",
    "print(f\"> {first_number} {second_number} {third_number}\")\n",
    "# Check the odd number\n",
    "odd1 = check_odd(first_number)\n",
    "odd2 = check_odd(second_number)\n",
    "odd3 = check_odd(third_number)\n",
    "# Find the largest odd number if any\n",
    "if odd1 == odd2 == odd3 == negative_infinity: print(f\"> There is no odd number!\")\n",
    "else: print(f\"> {largest_odd(odd1, odd2, odd3)} is the largest odd number.\")"
   ]
  },
  {
   "cell_type": "markdown",
   "metadata": {},
   "source": []
  }
 ],
 "metadata": {
  "kernelspec": {
   "display_name": "Python 3",
   "language": "python",
   "name": "python3"
  },
  "language_info": {
   "codemirror_mode": {
    "name": "ipython",
    "version": 3
   },
   "file_extension": ".py",
   "mimetype": "text/x-python",
   "name": "python",
   "nbconvert_exporter": "python",
   "pygments_lexer": "ipython3",
   "version": "3.11.4"
  }
 },
 "nbformat": 4,
 "nbformat_minor": 2
}
